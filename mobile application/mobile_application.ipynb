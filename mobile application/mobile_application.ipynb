{
 "cells": [
  {
   "cell_type": "markdown",
   "metadata": {},
   "source": [
    "### Изучение поведения пользователей мобильного приложения продажи продуктов"
   ]
  },
  {
   "cell_type": "markdown",
   "metadata": {},
   "source": [
    "В стартапе, который продаёт продукты питания, нужно разобраться, как ведут себя пользователи мобильного приложения. \n",
    "В проекте необходимо:\n",
    "1. Изучить воронку продаж. Узнайть, как пользователи доходят до покупки. Сколько пользователей доходит до покупки, а сколько — «застревает» на предыдущих шагах? На каких именно?\n",
    "2. Исследовать результаты A/A/B-эксперимента по изменению шрифтов во всём приложении. Пользователей разбили на 3 группы: 2 контрольные со старыми шрифтами и одну экспериментальную — с новыми.\n",
    "\n",
    "#### Описание данных.\n",
    "\n",
    "Каждая запись в логе — это действие пользователя, или событие. \n",
    "- EventName — название события;\n",
    "- DeviceIDHash — уникальный идентификатор пользователя;\n",
    "- EventTimestamp — время события;\n",
    "- ExpId — номер эксперимента: 246 и 247 — контрольные группы, а 248 — экспериментальная."
   ]
  },
  {
   "cell_type": "markdown",
   "metadata": {},
   "source": [
    "#### Изучение и предобработка исходных данных"
   ]
  },
  {
   "cell_type": "code",
   "execution_count": 1,
   "metadata": {},
   "outputs": [],
   "source": [
    "import pandas as pd\n",
    "import numpy as np\n",
    "import scipy.stats as st\n",
    "import math as mth\n",
    "from datetime import date, datetime, timedelta\n",
    "from matplotlib import pyplot as plt\n",
    "import seaborn as sns\n",
    "import plotly.express as px\n",
    "from plotly import graph_objects as go\n",
    "pd.options.display.max_colwidth = 150"
   ]
  },
  {
   "cell_type": "code",
   "execution_count": 2,
   "metadata": {},
   "outputs": [
    {
     "name": "stdout",
     "output_type": "stream",
     "text": [
      "Requirement already satisfied: kaleido in c:\\users\\hp\\anaconda3\\envs\\practicum\\lib\\site-packages (0.2.1)Note: you may need to restart the kernel to use updated packages.\n",
      "\n"
     ]
    }
   ],
   "source": [
    "pip install -U kaleido"
   ]
  },
  {
   "cell_type": "code",
   "execution_count": 3,
   "metadata": {},
   "outputs": [
    {
     "data": {
      "text/html": [
       "<div>\n",
       "<style scoped>\n",
       "    .dataframe tbody tr th:only-of-type {\n",
       "        vertical-align: middle;\n",
       "    }\n",
       "\n",
       "    .dataframe tbody tr th {\n",
       "        vertical-align: top;\n",
       "    }\n",
       "\n",
       "    .dataframe thead th {\n",
       "        text-align: right;\n",
       "    }\n",
       "</style>\n",
       "<table border=\"1\" class=\"dataframe\">\n",
       "  <thead>\n",
       "    <tr style=\"text-align: right;\">\n",
       "      <th></th>\n",
       "      <th>EventName</th>\n",
       "      <th>DeviceIDHash</th>\n",
       "      <th>EventTimestamp</th>\n",
       "      <th>ExpId</th>\n",
       "    </tr>\n",
       "  </thead>\n",
       "  <tbody>\n",
       "    <tr>\n",
       "      <th>0</th>\n",
       "      <td>MainScreenAppear</td>\n",
       "      <td>4575588528974610257</td>\n",
       "      <td>1564029816</td>\n",
       "      <td>246</td>\n",
       "    </tr>\n",
       "    <tr>\n",
       "      <th>1</th>\n",
       "      <td>MainScreenAppear</td>\n",
       "      <td>7416695313311560658</td>\n",
       "      <td>1564053102</td>\n",
       "      <td>246</td>\n",
       "    </tr>\n",
       "    <tr>\n",
       "      <th>2</th>\n",
       "      <td>PaymentScreenSuccessful</td>\n",
       "      <td>3518123091307005509</td>\n",
       "      <td>1564054127</td>\n",
       "      <td>248</td>\n",
       "    </tr>\n",
       "    <tr>\n",
       "      <th>3</th>\n",
       "      <td>CartScreenAppear</td>\n",
       "      <td>3518123091307005509</td>\n",
       "      <td>1564054127</td>\n",
       "      <td>248</td>\n",
       "    </tr>\n",
       "    <tr>\n",
       "      <th>4</th>\n",
       "      <td>PaymentScreenSuccessful</td>\n",
       "      <td>6217807653094995999</td>\n",
       "      <td>1564055322</td>\n",
       "      <td>248</td>\n",
       "    </tr>\n",
       "  </tbody>\n",
       "</table>\n",
       "</div>"
      ],
      "text/plain": [
       "                 EventName         DeviceIDHash  EventTimestamp  ExpId\n",
       "0         MainScreenAppear  4575588528974610257      1564029816    246\n",
       "1         MainScreenAppear  7416695313311560658      1564053102    246\n",
       "2  PaymentScreenSuccessful  3518123091307005509      1564054127    248\n",
       "3         CartScreenAppear  3518123091307005509      1564054127    248\n",
       "4  PaymentScreenSuccessful  6217807653094995999      1564055322    248"
      ]
     },
     "execution_count": 3,
     "metadata": {},
     "output_type": "execute_result"
    }
   ],
   "source": [
    "data = pd.read_csv('/Users/HP/Downloads/logs_exp.csv', sep='\\t')\n",
    "\n",
    "data.head()"
   ]
  },
  {
   "cell_type": "markdown",
   "metadata": {},
   "source": [
    "Изменим названия столбцов на более удобные."
   ]
  },
  {
   "cell_type": "code",
   "execution_count": 4,
   "metadata": {},
   "outputs": [],
   "source": [
    "data.columns = ['event_type', 'user_id', 'datetime', 'group']"
   ]
  },
  {
   "cell_type": "markdown",
   "metadata": {},
   "source": [
    "Проверим типы данных."
   ]
  },
  {
   "cell_type": "code",
   "execution_count": 5,
   "metadata": {},
   "outputs": [
    {
     "name": "stdout",
     "output_type": "stream",
     "text": [
      "<class 'pandas.core.frame.DataFrame'>\n",
      "RangeIndex: 244126 entries, 0 to 244125\n",
      "Data columns (total 4 columns):\n",
      " #   Column      Non-Null Count   Dtype \n",
      "---  ------      --------------   ----- \n",
      " 0   event_type  244126 non-null  object\n",
      " 1   user_id     244126 non-null  int64 \n",
      " 2   datetime    244126 non-null  int64 \n",
      " 3   group       244126 non-null  int64 \n",
      "dtypes: int64(3), object(1)\n",
      "memory usage: 7.5+ MB\n"
     ]
    }
   ],
   "source": [
    "data.info()"
   ]
  },
  {
   "cell_type": "markdown",
   "metadata": {},
   "source": [
    "Проверим пропуски."
   ]
  },
  {
   "cell_type": "code",
   "execution_count": 6,
   "metadata": {},
   "outputs": [
    {
     "data": {
      "text/plain": [
       "event_type    0\n",
       "user_id       0\n",
       "datetime      0\n",
       "group         0\n",
       "dtype: int64"
      ]
     },
     "execution_count": 6,
     "metadata": {},
     "output_type": "execute_result"
    }
   ],
   "source": [
    "data.isna().sum()"
   ]
  },
  {
   "cell_type": "markdown",
   "metadata": {},
   "source": [
    "Пропуски в данных отсутвуют. Проверим на явные дубликаты."
   ]
  },
  {
   "cell_type": "code",
   "execution_count": 7,
   "metadata": {},
   "outputs": [
    {
     "name": "stdout",
     "output_type": "stream",
     "text": [
      "Количество явных дубликатов:  413\n",
      "Доля явных дубликатов:  0.17 %\n"
     ]
    }
   ],
   "source": [
    "print('Количество явных дубликатов: ', data.duplicated().sum())\n",
    "print('Доля явных дубликатов: ', round(data.duplicated().sum()*100/data['user_id'].count(), 2), '%')"
   ]
  },
  {
   "cell_type": "markdown",
   "metadata": {},
   "source": [
    "Доля явных дубликатов 0.17 %. Удалим их."
   ]
  },
  {
   "cell_type": "code",
   "execution_count": 8,
   "metadata": {},
   "outputs": [],
   "source": [
    "data = data.drop_duplicates().reset_index(drop=True)"
   ]
  },
  {
   "cell_type": "markdown",
   "metadata": {},
   "source": [
    "Проверим явные дубликаты еще раз."
   ]
  },
  {
   "cell_type": "code",
   "execution_count": 9,
   "metadata": {},
   "outputs": [
    {
     "name": "stdout",
     "output_type": "stream",
     "text": [
      "Количество явных дубликатов в orders:  0\n"
     ]
    }
   ],
   "source": [
    "print('Количество явных дубликатов в orders: ', data.duplicated().sum())"
   ]
  },
  {
   "cell_type": "markdown",
   "metadata": {},
   "source": [
    "Добавим столбец даты и времени, а также отдельный столбец дат."
   ]
  },
  {
   "cell_type": "code",
   "execution_count": 10,
   "metadata": {},
   "outputs": [],
   "source": [
    "data['datetime'] = pd.to_datetime(data['datetime'], unit='s')\n",
    "data['date'] = (data['datetime']).dt.date\n",
    "data['date'] = pd.to_datetime(data['date'])"
   ]
  },
  {
   "cell_type": "markdown",
   "metadata": {},
   "source": [
    "Еще раз проверим типы данных."
   ]
  },
  {
   "cell_type": "code",
   "execution_count": 11,
   "metadata": {},
   "outputs": [
    {
     "data": {
      "text/html": [
       "<div>\n",
       "<style scoped>\n",
       "    .dataframe tbody tr th:only-of-type {\n",
       "        vertical-align: middle;\n",
       "    }\n",
       "\n",
       "    .dataframe tbody tr th {\n",
       "        vertical-align: top;\n",
       "    }\n",
       "\n",
       "    .dataframe thead th {\n",
       "        text-align: right;\n",
       "    }\n",
       "</style>\n",
       "<table border=\"1\" class=\"dataframe\">\n",
       "  <thead>\n",
       "    <tr style=\"text-align: right;\">\n",
       "      <th></th>\n",
       "      <th>event_type</th>\n",
       "      <th>user_id</th>\n",
       "      <th>datetime</th>\n",
       "      <th>group</th>\n",
       "      <th>date</th>\n",
       "    </tr>\n",
       "  </thead>\n",
       "  <tbody>\n",
       "    <tr>\n",
       "      <th>0</th>\n",
       "      <td>MainScreenAppear</td>\n",
       "      <td>4575588528974610257</td>\n",
       "      <td>2019-07-25 04:43:36</td>\n",
       "      <td>246</td>\n",
       "      <td>2019-07-25</td>\n",
       "    </tr>\n",
       "    <tr>\n",
       "      <th>1</th>\n",
       "      <td>MainScreenAppear</td>\n",
       "      <td>7416695313311560658</td>\n",
       "      <td>2019-07-25 11:11:42</td>\n",
       "      <td>246</td>\n",
       "      <td>2019-07-25</td>\n",
       "    </tr>\n",
       "    <tr>\n",
       "      <th>2</th>\n",
       "      <td>PaymentScreenSuccessful</td>\n",
       "      <td>3518123091307005509</td>\n",
       "      <td>2019-07-25 11:28:47</td>\n",
       "      <td>248</td>\n",
       "      <td>2019-07-25</td>\n",
       "    </tr>\n",
       "    <tr>\n",
       "      <th>3</th>\n",
       "      <td>CartScreenAppear</td>\n",
       "      <td>3518123091307005509</td>\n",
       "      <td>2019-07-25 11:28:47</td>\n",
       "      <td>248</td>\n",
       "      <td>2019-07-25</td>\n",
       "    </tr>\n",
       "    <tr>\n",
       "      <th>4</th>\n",
       "      <td>PaymentScreenSuccessful</td>\n",
       "      <td>6217807653094995999</td>\n",
       "      <td>2019-07-25 11:48:42</td>\n",
       "      <td>248</td>\n",
       "      <td>2019-07-25</td>\n",
       "    </tr>\n",
       "  </tbody>\n",
       "</table>\n",
       "</div>"
      ],
      "text/plain": [
       "                event_type              user_id            datetime  group  \\\n",
       "0         MainScreenAppear  4575588528974610257 2019-07-25 04:43:36    246   \n",
       "1         MainScreenAppear  7416695313311560658 2019-07-25 11:11:42    246   \n",
       "2  PaymentScreenSuccessful  3518123091307005509 2019-07-25 11:28:47    248   \n",
       "3         CartScreenAppear  3518123091307005509 2019-07-25 11:28:47    248   \n",
       "4  PaymentScreenSuccessful  6217807653094995999 2019-07-25 11:48:42    248   \n",
       "\n",
       "        date  \n",
       "0 2019-07-25  \n",
       "1 2019-07-25  \n",
       "2 2019-07-25  \n",
       "3 2019-07-25  \n",
       "4 2019-07-25  "
      ]
     },
     "execution_count": 11,
     "metadata": {},
     "output_type": "execute_result"
    }
   ],
   "source": [
    "data.head()"
   ]
  },
  {
   "cell_type": "code",
   "execution_count": 12,
   "metadata": {},
   "outputs": [
    {
     "name": "stdout",
     "output_type": "stream",
     "text": [
      "<class 'pandas.core.frame.DataFrame'>\n",
      "RangeIndex: 243713 entries, 0 to 243712\n",
      "Data columns (total 5 columns):\n",
      " #   Column      Non-Null Count   Dtype         \n",
      "---  ------      --------------   -----         \n",
      " 0   event_type  243713 non-null  object        \n",
      " 1   user_id     243713 non-null  int64         \n",
      " 2   datetime    243713 non-null  datetime64[ns]\n",
      " 3   group       243713 non-null  int64         \n",
      " 4   date        243713 non-null  datetime64[ns]\n",
      "dtypes: datetime64[ns](2), int64(2), object(1)\n",
      "memory usage: 9.3+ MB\n"
     ]
    }
   ],
   "source": [
    "data.info()"
   ]
  },
  {
   "cell_type": "markdown",
   "metadata": {},
   "source": [
    "Проверим есть ли пересечение пользователей в группах."
   ]
  },
  {
   "cell_type": "code",
   "execution_count": 13,
   "metadata": {},
   "outputs": [
    {
     "data": {
      "text/plain": [
       "group\n",
       "1        7551\n",
       "dtype: int64"
      ]
     },
     "execution_count": 13,
     "metadata": {},
     "output_type": "execute_result"
    }
   ],
   "source": [
    "data.groupby('user_id').agg({'group':'nunique'}).value_counts()"
   ]
  },
  {
   "cell_type": "markdown",
   "metadata": {},
   "source": [
    "Пересечения пользователей в группах отсутствует."
   ]
  },
  {
   "cell_type": "markdown",
   "metadata": {},
   "source": [
    "#### Вывод"
   ]
  },
  {
   "cell_type": "markdown",
   "metadata": {},
   "source": [
    "В данном разделе познакомились с данными, изменили название столбцов на более удобные, проверили на пропуски, удалили явные дубликаты и преобразорвали данные о дате. Также проверили отсутствие пересечения пользователей в группах."
   ]
  },
  {
   "cell_type": "markdown",
   "metadata": {},
   "source": [
    "#### Проверка данных"
   ]
  },
  {
   "cell_type": "code",
   "execution_count": 14,
   "metadata": {},
   "outputs": [
    {
     "name": "stdout",
     "output_type": "stream",
     "text": [
      "Количество событий в логе:  243713\n",
      "Количество пользователей в логе:  7551\n"
     ]
    }
   ],
   "source": [
    "print('Количество событий в логе: ', data['event_type'].count())\n",
    "print('Количество пользователей в логе: ', data['user_id'].nunique())"
   ]
  },
  {
   "cell_type": "markdown",
   "metadata": {},
   "source": [
    "Посчитаем среднее количество событий на пользователя."
   ]
  },
  {
   "cell_type": "code",
   "execution_count": 15,
   "metadata": {},
   "outputs": [
    {
     "data": {
      "text/plain": [
       "event_type    20.0\n",
       "dtype: float64"
      ]
     },
     "execution_count": 15,
     "metadata": {},
     "output_type": "execute_result"
    }
   ],
   "source": [
    "data.groupby('user_id').agg({'event_type':'count'}).median()"
   ]
  },
  {
   "cell_type": "markdown",
   "metadata": {},
   "source": [
    "Определим данными за какой период располагаем."
   ]
  },
  {
   "cell_type": "code",
   "execution_count": 16,
   "metadata": {},
   "outputs": [
    {
     "name": "stdout",
     "output_type": "stream",
     "text": [
      "Минимальная дата: 2019-07-25 00:00:00\n",
      "Максимальная дата: 2019-08-07 00:00:00\n"
     ]
    }
   ],
   "source": [
    "print('Минимальная дата:', data['date'].min())\n",
    "print('Максимальная дата:', data['date'].max())"
   ]
  },
  {
   "cell_type": "markdown",
   "metadata": {},
   "source": [
    "Определим насколько полные данные во всем периоде."
   ]
  },
  {
   "cell_type": "code",
   "execution_count": 17,
   "metadata": {},
   "outputs": [
    {
     "data": {
      "image/png": "[encoded data removed]",
      "text/plain": [
       "<Figure size 1500x500 with 1 Axes>"
      ]
     },
     "metadata": {},
     "output_type": "display_data"
    }
   ],
   "source": [
    "data.hist('date', figsize=(15,5))\n",
    "plt.xlabel('Дата')\n",
    "plt.ylabel('Количество событий')\n",
    "plt.title('График количества событий по датам')\n",
    "plt.show()"
   ]
  },
  {
   "cell_type": "markdown",
   "metadata": {},
   "source": [
    "По гистаграмме видно, что полные данные есть только за период с 2019-08-01 по 2019-08-07."
   ]
  },
  {
   "cell_type": "markdown",
   "metadata": {},
   "source": [
    "Сделаем срез данных по дате 2019-08-01."
   ]
  },
  {
   "cell_type": "code",
   "execution_count": 18,
   "metadata": {},
   "outputs": [],
   "source": [
    "data_new = data.query('date > \"2019-07-31\"')"
   ]
  },
  {
   "cell_type": "markdown",
   "metadata": {},
   "source": [
    "Посчитаем количество событий и пользователей в логе за новый актуальный период и какой процент данных потеряли."
   ]
  },
  {
   "cell_type": "code",
   "execution_count": 19,
   "metadata": {},
   "outputs": [
    {
     "name": "stdout",
     "output_type": "stream",
     "text": [
      "Количество событий в логе:  240887\n",
      "Количество пользователей в логе:  7534\n",
      "Какой % событий потеряли:  1.16\n",
      "Какой % пользователей потеряли:  0.23\n"
     ]
    }
   ],
   "source": [
    "print('Количество событий в логе: ', data_new['event_type'].count())\n",
    "print('Количество пользователей в логе: ', data_new['user_id'].nunique())\n",
    "print('Какой % событий потеряли: ', round(100-data_new['event_type'].count()*100/data['event_type'].count(), 2))\n",
    "print('Какой % пользователей потеряли: ', round(100-data_new['user_id'].nunique()*100/data['user_id'].nunique(), 2))"
   ]
  },
  {
   "cell_type": "markdown",
   "metadata": {},
   "source": [
    "Посчитаем новое среднее количество событий на пользователя."
   ]
  },
  {
   "cell_type": "code",
   "execution_count": 20,
   "metadata": {},
   "outputs": [
    {
     "data": {
      "text/plain": [
       "event_type    19.0\n",
       "dtype: float64"
      ]
     },
     "execution_count": 20,
     "metadata": {},
     "output_type": "execute_result"
    }
   ],
   "source": [
    "data_new.groupby('user_id').agg({'event_type':'count'}).median()"
   ]
  },
  {
   "cell_type": "markdown",
   "metadata": {},
   "source": [
    "Проверим пользователи из каких групп у нас остались."
   ]
  },
  {
   "cell_type": "code",
   "execution_count": 21,
   "metadata": {
    "scrolled": true
   },
   "outputs": [
    {
     "data": {
      "text/html": [
       "<div>\n",
       "<style scoped>\n",
       "    .dataframe tbody tr th:only-of-type {\n",
       "        vertical-align: middle;\n",
       "    }\n",
       "\n",
       "    .dataframe tbody tr th {\n",
       "        vertical-align: top;\n",
       "    }\n",
       "\n",
       "    .dataframe thead th {\n",
       "        text-align: right;\n",
       "    }\n",
       "</style>\n",
       "<table border=\"1\" class=\"dataframe\">\n",
       "  <thead>\n",
       "    <tr style=\"text-align: right;\">\n",
       "      <th></th>\n",
       "      <th>user_id</th>\n",
       "    </tr>\n",
       "    <tr>\n",
       "      <th>group</th>\n",
       "      <th></th>\n",
       "    </tr>\n",
       "  </thead>\n",
       "  <tbody>\n",
       "    <tr>\n",
       "      <th>246</th>\n",
       "      <td>2484</td>\n",
       "    </tr>\n",
       "    <tr>\n",
       "      <th>247</th>\n",
       "      <td>2513</td>\n",
       "    </tr>\n",
       "    <tr>\n",
       "      <th>248</th>\n",
       "      <td>2537</td>\n",
       "    </tr>\n",
       "  </tbody>\n",
       "</table>\n",
       "</div>"
      ],
      "text/plain": [
       "       user_id\n",
       "group         \n",
       "246       2484\n",
       "247       2513\n",
       "248       2537"
      ]
     },
     "execution_count": 21,
     "metadata": {},
     "output_type": "execute_result"
    }
   ],
   "source": [
    "data_new.groupby('group').agg({'user_id':'nunique'})"
   ]
  },
  {
   "cell_type": "markdown",
   "metadata": {},
   "source": [
    "#### Вывод"
   ]
  },
  {
   "cell_type": "markdown",
   "metadata": {},
   "source": [
    "Изначально лог содеражал данные за период с 2019-07-25 по 2019-08-07. В ходе анализа установлено, что полные данные есть только за период с 2019-08-01 по 2019-08-07. Данные за этот период мы и будем рассматривать в дальнейшем. В логе за актуальный период 7534 пользователя и 240887 событий. Среднее количество событий на пользователя - 19. При срезе данных по дате потеряно меньше 1% пользователей и 1% событий. В рассматриваемом периоде пользователи распределены по экспериментальным группам примерно в равном количестве."
   ]
  },
  {
   "cell_type": "markdown",
   "metadata": {},
   "source": [
    "#### Изучение воронки событий"
   ]
  },
  {
   "cell_type": "markdown",
   "metadata": {},
   "source": [
    "Посмотрим, какие события есть в логах и как часто они встречаются."
   ]
  },
  {
   "cell_type": "code",
   "execution_count": 22,
   "metadata": {},
   "outputs": [
    {
     "data": {
      "text/plain": [
       "MainScreenAppear           117328\n",
       "OffersScreenAppear          46333\n",
       "CartScreenAppear            42303\n",
       "PaymentScreenSuccessful     33918\n",
       "Tutorial                     1005\n",
       "Name: event_type, dtype: int64"
      ]
     },
     "execution_count": 22,
     "metadata": {},
     "output_type": "execute_result"
    }
   ],
   "source": [
    "data_new['event_type'].value_counts()"
   ]
  },
  {
   "cell_type": "markdown",
   "metadata": {},
   "source": [
    "Посчитаем сколько пользователей совершали каждое из этих событий и долю пользователей, которые хоть раз совершали событие."
   ]
  },
  {
   "cell_type": "code",
   "execution_count": 23,
   "metadata": {},
   "outputs": [
    {
     "data": {
      "text/html": [
       "<div>\n",
       "<style scoped>\n",
       "    .dataframe tbody tr th:only-of-type {\n",
       "        vertical-align: middle;\n",
       "    }\n",
       "\n",
       "    .dataframe tbody tr th {\n",
       "        vertical-align: top;\n",
       "    }\n",
       "\n",
       "    .dataframe thead th {\n",
       "        text-align: right;\n",
       "    }\n",
       "</style>\n",
       "<table border=\"1\" class=\"dataframe\">\n",
       "  <thead>\n",
       "    <tr style=\"text-align: right;\">\n",
       "      <th></th>\n",
       "      <th>event_type</th>\n",
       "      <th>user_id</th>\n",
       "      <th>user_id %</th>\n",
       "    </tr>\n",
       "  </thead>\n",
       "  <tbody>\n",
       "    <tr>\n",
       "      <th>0</th>\n",
       "      <td>MainScreenAppear</td>\n",
       "      <td>7419</td>\n",
       "      <td>98.47</td>\n",
       "    </tr>\n",
       "    <tr>\n",
       "      <th>1</th>\n",
       "      <td>OffersScreenAppear</td>\n",
       "      <td>4593</td>\n",
       "      <td>60.96</td>\n",
       "    </tr>\n",
       "    <tr>\n",
       "      <th>2</th>\n",
       "      <td>CartScreenAppear</td>\n",
       "      <td>3734</td>\n",
       "      <td>49.56</td>\n",
       "    </tr>\n",
       "    <tr>\n",
       "      <th>3</th>\n",
       "      <td>PaymentScreenSuccessful</td>\n",
       "      <td>3539</td>\n",
       "      <td>46.97</td>\n",
       "    </tr>\n",
       "    <tr>\n",
       "      <th>4</th>\n",
       "      <td>Tutorial</td>\n",
       "      <td>840</td>\n",
       "      <td>11.15</td>\n",
       "    </tr>\n",
       "  </tbody>\n",
       "</table>\n",
       "</div>"
      ],
      "text/plain": [
       "                event_type  user_id  user_id %\n",
       "0         MainScreenAppear     7419      98.47\n",
       "1       OffersScreenAppear     4593      60.96\n",
       "2         CartScreenAppear     3734      49.56\n",
       "3  PaymentScreenSuccessful     3539      46.97\n",
       "4                 Tutorial      840      11.15"
      ]
     },
     "execution_count": 23,
     "metadata": {},
     "output_type": "execute_result"
    }
   ],
   "source": [
    "events = data_new.groupby('event_type').agg({'user_id':'nunique'}).sort_values(by='user_id', ascending=False).reset_index()\n",
    "\n",
    "users_id_count = 7534 # всего пользователей в логе\n",
    "events['user_id %'] = round(events['user_id']*100/users_id_count, 2)\n",
    "events"
   ]
  },
  {
   "cell_type": "markdown",
   "metadata": {},
   "source": [
    "Предположим, что события, совершаемые пользователем, происходят в следующем порядке:                                                                     \n",
    "1. Открывает главную страницу (MainScreenAppear).\n",
    "2. Открывает страницу определенного продукта (OffersScreenAppear).\n",
    "3. Переходит в корзину с товарами (CartScreenAppear).\n",
    "4. Оплачивает выбранные товары (PaymentScreenSuccessful).\n",
    "\n",
    "Событие \"руководство\" (Tutorial) не входит в воронку."
   ]
  },
  {
   "cell_type": "markdown",
   "metadata": {},
   "source": [
    "Посчитаем, какая доля пользователей проходит на следующий шаг воронки (от числа пользователей на предыдущем)."
   ]
  },
  {
   "cell_type": "code",
   "execution_count": 24,
   "metadata": {},
   "outputs": [
    {
     "name": "stderr",
     "output_type": "stream",
     "text": [
      "C:\\Users\\HP\\AppData\\Local\\Temp\\ipykernel_14736\\3672370076.py:2: SettingWithCopyWarning: \n",
      "A value is trying to be set on a copy of a slice from a DataFrame.\n",
      "Try using .loc[row_indexer,col_indexer] = value instead\n",
      "\n",
      "See the caveats in the documentation: https://pandas.pydata.org/pandas-docs/stable/user_guide/indexing.html#returning-a-view-versus-a-copy\n",
      "  events['funnel %'] = round(events['user_id']*100/events['user_id'].shift(1), 2)\n"
     ]
    },
    {
     "data": {
      "text/html": [
       "<div>\n",
       "<style scoped>\n",
       "    .dataframe tbody tr th:only-of-type {\n",
       "        vertical-align: middle;\n",
       "    }\n",
       "\n",
       "    .dataframe tbody tr th {\n",
       "        vertical-align: top;\n",
       "    }\n",
       "\n",
       "    .dataframe thead th {\n",
       "        text-align: right;\n",
       "    }\n",
       "</style>\n",
       "<table border=\"1\" class=\"dataframe\">\n",
       "  <thead>\n",
       "    <tr style=\"text-align: right;\">\n",
       "      <th></th>\n",
       "      <th>event_type</th>\n",
       "      <th>user_id</th>\n",
       "      <th>user_id %</th>\n",
       "      <th>funnel %</th>\n",
       "    </tr>\n",
       "  </thead>\n",
       "  <tbody>\n",
       "    <tr>\n",
       "      <th>0</th>\n",
       "      <td>MainScreenAppear</td>\n",
       "      <td>7419</td>\n",
       "      <td>98.47</td>\n",
       "      <td>NaN</td>\n",
       "    </tr>\n",
       "    <tr>\n",
       "      <th>1</th>\n",
       "      <td>OffersScreenAppear</td>\n",
       "      <td>4593</td>\n",
       "      <td>60.96</td>\n",
       "      <td>61.91</td>\n",
       "    </tr>\n",
       "    <tr>\n",
       "      <th>2</th>\n",
       "      <td>CartScreenAppear</td>\n",
       "      <td>3734</td>\n",
       "      <td>49.56</td>\n",
       "      <td>81.30</td>\n",
       "    </tr>\n",
       "    <tr>\n",
       "      <th>3</th>\n",
       "      <td>PaymentScreenSuccessful</td>\n",
       "      <td>3539</td>\n",
       "      <td>46.97</td>\n",
       "      <td>94.78</td>\n",
       "    </tr>\n",
       "  </tbody>\n",
       "</table>\n",
       "</div>"
      ],
      "text/plain": [
       "                event_type  user_id  user_id %  funnel %\n",
       "0         MainScreenAppear     7419      98.47       NaN\n",
       "1       OffersScreenAppear     4593      60.96     61.91\n",
       "2         CartScreenAppear     3734      49.56     81.30\n",
       "3  PaymentScreenSuccessful     3539      46.97     94.78"
      ]
     },
     "execution_count": 24,
     "metadata": {},
     "output_type": "execute_result"
    }
   ],
   "source": [
    "events = events.query('event_type != \"Tutorial\"')\n",
    "events['funnel %'] = round(events['user_id']*100/events['user_id'].shift(1), 2)\n",
    "events"
   ]
  },
  {
   "cell_type": "markdown",
   "metadata": {},
   "source": [
    "Построим график воронки событий."
   ]
  },
  {
   "cell_type": "code",
   "execution_count": 25,
   "metadata": {},
   "outputs": [
    {
     "data": {
      "image/png": "[encoded data removed]"
     },
     "metadata": {},
     "output_type": "display_data"
    }
   ],
   "source": [
    "df = dict(\n",
    "    number=events['user_id'],\n",
    "    stage=events['event_type'])\n",
    "fig = px.funnel(df, x='number', y='stage')\n",
    "fig.update_layout(title=\"График воронки событий\")\n",
    "fig.show(\"png\")"
   ]
  },
  {
   "cell_type": "markdown",
   "metadata": {},
   "source": [
    "Больше всего (40 %) пользователей теряется при переходе с главной страницы на страницу продукта."
   ]
  },
  {
   "cell_type": "markdown",
   "metadata": {},
   "source": [
    "Посчитаем, какая доля пользователей доходит от первого события до оплаты."
   ]
  },
  {
   "cell_type": "code",
   "execution_count": 26,
   "metadata": {},
   "outputs": [
    {
     "data": {
      "text/plain": [
       "0.47701846610055265"
      ]
     },
     "execution_count": 26,
     "metadata": {},
     "output_type": "execute_result"
    }
   ],
   "source": [
    "events.iloc[-1]['user_id']/events.iloc[0]['user_id']"
   ]
  },
  {
   "cell_type": "markdown",
   "metadata": {},
   "source": [
    "От просмотра главной страницы до этапа оплаты доходит 47,7 % пользователей."
   ]
  },
  {
   "cell_type": "markdown",
   "metadata": {},
   "source": [
    "#### Вывод"
   ]
  },
  {
   "cell_type": "markdown",
   "metadata": {},
   "source": [
    "На данном этапе изучена воронка событий. Выявлено, что в логе 4 основных события и одно, не входящее в воронку событий. Больше всего (40 %) пользователей теряется при переходе с главной страницы на страницу продукта. Это может быть связано с тем, что пользователь добавляет заказ в корзину сразу с главной страницы. От просмотра главной страницы до этапа оплаты доходит 47,7 % пользователей."
   ]
  },
  {
   "cell_type": "markdown",
   "metadata": {},
   "source": [
    "#### Изучение результатов эксперимента"
   ]
  },
  {
   "cell_type": "markdown",
   "metadata": {},
   "source": [
    "Посмотрим сколько пользователей в каждой экспериментальной группе."
   ]
  },
  {
   "cell_type": "code",
   "execution_count": 27,
   "metadata": {},
   "outputs": [
    {
     "data": {
      "text/html": [
       "<div>\n",
       "<style scoped>\n",
       "    .dataframe tbody tr th:only-of-type {\n",
       "        vertical-align: middle;\n",
       "    }\n",
       "\n",
       "    .dataframe tbody tr th {\n",
       "        vertical-align: top;\n",
       "    }\n",
       "\n",
       "    .dataframe thead th {\n",
       "        text-align: right;\n",
       "    }\n",
       "</style>\n",
       "<table border=\"1\" class=\"dataframe\">\n",
       "  <thead>\n",
       "    <tr style=\"text-align: right;\">\n",
       "      <th></th>\n",
       "      <th>user_id</th>\n",
       "    </tr>\n",
       "    <tr>\n",
       "      <th>group</th>\n",
       "      <th></th>\n",
       "    </tr>\n",
       "  </thead>\n",
       "  <tbody>\n",
       "    <tr>\n",
       "      <th>246</th>\n",
       "      <td>2484</td>\n",
       "    </tr>\n",
       "    <tr>\n",
       "      <th>247</th>\n",
       "      <td>2513</td>\n",
       "    </tr>\n",
       "    <tr>\n",
       "      <th>248</th>\n",
       "      <td>2537</td>\n",
       "    </tr>\n",
       "  </tbody>\n",
       "</table>\n",
       "</div>"
      ],
      "text/plain": [
       "       user_id\n",
       "group         \n",
       "246       2484\n",
       "247       2513\n",
       "248       2537"
      ]
     },
     "execution_count": 27,
     "metadata": {},
     "output_type": "execute_result"
    }
   ],
   "source": [
    "groups = data_new.groupby('group').agg({'user_id':'nunique'})\n",
    "groups"
   ]
  },
  {
   "cell_type": "markdown",
   "metadata": {},
   "source": [
    "Есть 2 контрольные группы для А/А-эксперимента, чтобы проверить корректность всех механизмов и расчётов. Проверим, находят ли статистические критерии разницу между выборками 246 и 247."
   ]
  },
  {
   "cell_type": "markdown",
   "metadata": {},
   "source": [
    "Посмотрим сколько пользователей совершали каждое из событий с разбивкой по группам."
   ]
  },
  {
   "cell_type": "code",
   "execution_count": 28,
   "metadata": {},
   "outputs": [
    {
     "data": {
      "text/html": [
       "<div>\n",
       "<style scoped>\n",
       "    .dataframe tbody tr th:only-of-type {\n",
       "        vertical-align: middle;\n",
       "    }\n",
       "\n",
       "    .dataframe tbody tr th {\n",
       "        vertical-align: top;\n",
       "    }\n",
       "\n",
       "    .dataframe thead th {\n",
       "        text-align: right;\n",
       "    }\n",
       "</style>\n",
       "<table border=\"1\" class=\"dataframe\">\n",
       "  <thead>\n",
       "    <tr style=\"text-align: right;\">\n",
       "      <th>group</th>\n",
       "      <th>event_type</th>\n",
       "      <th>246</th>\n",
       "      <th>247</th>\n",
       "      <th>248</th>\n",
       "    </tr>\n",
       "  </thead>\n",
       "  <tbody>\n",
       "    <tr>\n",
       "      <th>0</th>\n",
       "      <td>MainScreenAppear</td>\n",
       "      <td>2450</td>\n",
       "      <td>2476</td>\n",
       "      <td>2493</td>\n",
       "    </tr>\n",
       "    <tr>\n",
       "      <th>1</th>\n",
       "      <td>OffersScreenAppear</td>\n",
       "      <td>1542</td>\n",
       "      <td>1520</td>\n",
       "      <td>1531</td>\n",
       "    </tr>\n",
       "    <tr>\n",
       "      <th>2</th>\n",
       "      <td>CartScreenAppear</td>\n",
       "      <td>1266</td>\n",
       "      <td>1238</td>\n",
       "      <td>1230</td>\n",
       "    </tr>\n",
       "    <tr>\n",
       "      <th>3</th>\n",
       "      <td>PaymentScreenSuccessful</td>\n",
       "      <td>1200</td>\n",
       "      <td>1158</td>\n",
       "      <td>1181</td>\n",
       "    </tr>\n",
       "    <tr>\n",
       "      <th>4</th>\n",
       "      <td>Tutorial</td>\n",
       "      <td>278</td>\n",
       "      <td>283</td>\n",
       "      <td>279</td>\n",
       "    </tr>\n",
       "  </tbody>\n",
       "</table>\n",
       "</div>"
      ],
      "text/plain": [
       "group               event_type   246   247   248\n",
       "0             MainScreenAppear  2450  2476  2493\n",
       "1           OffersScreenAppear  1542  1520  1531\n",
       "2             CartScreenAppear  1266  1238  1230\n",
       "3      PaymentScreenSuccessful  1200  1158  1181\n",
       "4                     Tutorial   278   283   279"
      ]
     },
     "execution_count": 28,
     "metadata": {},
     "output_type": "execute_result"
    }
   ],
   "source": [
    "events_groups = (\n",
    "    data_new.pivot_table(index='event_type',columns='group',values='user_id',aggfunc='nunique')\n",
    "    .sort_values(by=246,ascending=False).reset_index()\n",
    ")\n",
    "\n",
    "events_groups"
   ]
  },
  {
   "cell_type": "code",
   "execution_count": 29,
   "metadata": {},
   "outputs": [
    {
     "data": {
      "text/plain": [
       "{'all': 7534, 246: 2484, 247: 2513, 248: 2537, '246+247': 4997}"
      ]
     },
     "execution_count": 29,
     "metadata": {},
     "output_type": "execute_result"
    }
   ],
   "source": [
    "n_users = {'all': data_new['user_id'].nunique(), \n",
    "           246: data_new[data_new['group']==246]['user_id'].nunique(),\n",
    "           247: data_new[data_new['group']==247]['user_id'].nunique(),\n",
    "           248: data_new[data_new['group']==248]['user_id'].nunique(),\n",
    "           '246+247': data_new[(data_new['group']==246) | (data_new['group']==247)]['user_id'].nunique()}\n",
    "n_users"
   ]
  },
  {
   "cell_type": "markdown",
   "metadata": {},
   "source": [
    "Сформулируем гипотезы. Нулевая: между долями нет значимой разницы. Альтернативная: между долями есть значимая разница."
   ]
  },
  {
   "cell_type": "markdown",
   "metadata": {},
   "source": [
    "Напишем функцию для проверки гипотез. Для снижения вероятности ложнопозитивного результата при множественном тестировании гипотез скорректируем стандартный уровень значимости, равный 0.05, применив поправку Шидака."
   ]
  },
  {
   "cell_type": "code",
   "execution_count": 30,
   "metadata": {
    "scrolled": true
   },
   "outputs": [],
   "source": [
    "def z_value(first_group, second_group, alpha):\n",
    "    for i in events_groups.index:\n",
    "        alpha = alpha\n",
    "        p1 = events_groups[first_group][i] /n_users[first_group]\n",
    "        # пропорция успехов во второй группе:\n",
    "        p2 = events_groups[second_group][i] /n_users[second_group]\n",
    "        # пропорция успехов в комбинированном датасете:\n",
    "        p_combined = ((events_groups[first_group][i] + events_groups[second_group][i]) / \n",
    "                      (n_users[first_group] + n_users[second_group]))\n",
    "        # разница пропорций в датасетах\n",
    "        difference = p1 - p2\n",
    "        # считаем статистику в ст.отклонениях стандартного нормального распределения\n",
    "        z_value = difference / mth.sqrt(p_combined * (1 - p_combined) * \n",
    "                                        (1/n_users[first_group] + 1/n_users[second_group]))\n",
    "        # задаем стандартное нормальное распределение (среднее 0, ст.отклонение 1)\n",
    "        distr = st.norm(0, 1) \n",
    "        p_value = (1 - distr.cdf(abs(z_value))) * 2\n",
    "        # применяем метод Шидака\n",
    "        shidak_alpha = 1 - (1-alpha)**(1/20)\n",
    "        print('{} p-значение: {}'.format(events_groups['event_type'][i], p_value))\n",
    "        if (p_value < shidak_alpha):\n",
    "            print(\"Отвергаем нулевую гипотезу: между долями есть значимая разница\")\n",
    "        else:\n",
    "            print(\"Не получилось отвергнуть нулевую гипотезу, нет оснований считать доли разными\")\n",
    "        print('')"
   ]
  },
  {
   "cell_type": "markdown",
   "metadata": {},
   "source": [
    "Посмотрим какой уровень значимости получился при применении метода Шидака."
   ]
  },
  {
   "cell_type": "code",
   "execution_count": 31,
   "metadata": {},
   "outputs": [
    {
     "name": "stdout",
     "output_type": "stream",
     "text": [
      "Уровень значимости по методу Шидака: 0.0026\n"
     ]
    }
   ],
   "source": [
    "print('Уровень значимости по методу Шидака:', round(1 - (1-0.05)**(1/20), 4))"
   ]
  },
  {
   "cell_type": "markdown",
   "metadata": {},
   "source": [
    "Сравним группы 246 и 247."
   ]
  },
  {
   "cell_type": "code",
   "execution_count": 32,
   "metadata": {},
   "outputs": [
    {
     "name": "stdout",
     "output_type": "stream",
     "text": [
      "MainScreenAppear p-значение: 0.7570597232046099\n",
      "Не получилось отвергнуть нулевую гипотезу, нет оснований считать доли разными\n",
      "\n",
      "OffersScreenAppear p-значение: 0.2480954578522181\n",
      "Не получилось отвергнуть нулевую гипотезу, нет оснований считать доли разными\n",
      "\n",
      "CartScreenAppear p-значение: 0.22883372237997213\n",
      "Не получилось отвергнуть нулевую гипотезу, нет оснований считать доли разными\n",
      "\n",
      "PaymentScreenSuccessful p-значение: 0.11456679313141849\n",
      "Не получилось отвергнуть нулевую гипотезу, нет оснований считать доли разными\n",
      "\n",
      "Tutorial p-значение: 0.9376996189257114\n",
      "Не получилось отвергнуть нулевую гипотезу, нет оснований считать доли разными\n",
      "\n"
     ]
    }
   ],
   "source": [
    "z_value(246,247,0.05)"
   ]
  },
  {
   "cell_type": "markdown",
   "metadata": {},
   "source": [
    "Проверка по всем событиях показала, что нет оснований считать доли разными. Можно сказать, что разбиение на группы работает корректно."
   ]
  },
  {
   "cell_type": "markdown",
   "metadata": {},
   "source": [
    "Аналогично поступим с группой с изменённым шрифтом. Сравним результаты с каждой из контрольных групп в отдельности по каждому событию.\n",
    "\n",
    "Сравним группы 246 и 248."
   ]
  },
  {
   "cell_type": "code",
   "execution_count": 33,
   "metadata": {},
   "outputs": [
    {
     "name": "stdout",
     "output_type": "stream",
     "text": [
      "MainScreenAppear p-значение: 0.2949721933554552\n",
      "Не получилось отвергнуть нулевую гипотезу, нет оснований считать доли разными\n",
      "\n",
      "OffersScreenAppear p-значение: 0.20836205402738917\n",
      "Не получилось отвергнуть нулевую гипотезу, нет оснований считать доли разными\n",
      "\n",
      "CartScreenAppear p-значение: 0.07842923237520116\n",
      "Не получилось отвергнуть нулевую гипотезу, нет оснований считать доли разными\n",
      "\n",
      "PaymentScreenSuccessful p-значение: 0.2122553275697796\n",
      "Не получилось отвергнуть нулевую гипотезу, нет оснований считать доли разными\n",
      "\n",
      "Tutorial p-значение: 0.8264294010087645\n",
      "Не получилось отвергнуть нулевую гипотезу, нет оснований считать доли разными\n",
      "\n"
     ]
    }
   ],
   "source": [
    "z_value(246,248,0.05)"
   ]
  },
  {
   "cell_type": "markdown",
   "metadata": {},
   "source": [
    "Между группами 246 и 248 значимой разницы также нет."
   ]
  },
  {
   "cell_type": "markdown",
   "metadata": {},
   "source": [
    "Сравним группы 247 и 248."
   ]
  },
  {
   "cell_type": "code",
   "execution_count": 34,
   "metadata": {},
   "outputs": [
    {
     "name": "stdout",
     "output_type": "stream",
     "text": [
      "MainScreenAppear p-значение: 0.4587053616621515\n",
      "Не получилось отвергнуть нулевую гипотезу, нет оснований считать доли разными\n",
      "\n",
      "OffersScreenAppear p-значение: 0.9197817830592261\n",
      "Не получилось отвергнуть нулевую гипотезу, нет оснований считать доли разными\n",
      "\n",
      "CartScreenAppear p-значение: 0.5786197879539783\n",
      "Не получилось отвергнуть нулевую гипотезу, нет оснований считать доли разными\n",
      "\n",
      "PaymentScreenSuccessful p-значение: 0.7373415053803964\n",
      "Не получилось отвергнуть нулевую гипотезу, нет оснований считать доли разными\n",
      "\n",
      "Tutorial p-значение: 0.765323922474501\n",
      "Не получилось отвергнуть нулевую гипотезу, нет оснований считать доли разными\n",
      "\n"
     ]
    }
   ],
   "source": [
    "z_value(247,248,0.05)"
   ]
  },
  {
   "cell_type": "markdown",
   "metadata": {},
   "source": [
    "Между группами 247 и 248 значимой разницы также нет."
   ]
  },
  {
   "cell_type": "markdown",
   "metadata": {},
   "source": [
    "Сравним результаты с объединённой контрольной группой."
   ]
  },
  {
   "cell_type": "code",
   "execution_count": 35,
   "metadata": {},
   "outputs": [
    {
     "name": "stdout",
     "output_type": "stream",
     "text": [
      "MainScreenAppear p-значение: 0.29424526837179577\n",
      "Не получилось отвергнуть нулевую гипотезу, нет оснований считать доли разными\n",
      "\n",
      "OffersScreenAppear p-значение: 0.43425549655188256\n",
      "Не получилось отвергнуть нулевую гипотезу, нет оснований считать доли разными\n",
      "\n",
      "CartScreenAppear p-значение: 0.18175875284404386\n",
      "Не получилось отвергнуть нулевую гипотезу, нет оснований считать доли разными\n",
      "\n",
      "PaymentScreenSuccessful p-значение: 0.6004294282308704\n",
      "Не получилось отвергнуть нулевую гипотезу, нет оснований считать доли разными\n",
      "\n",
      "Tutorial p-значение: 0.764862472531507\n",
      "Не получилось отвергнуть нулевую гипотезу, нет оснований считать доли разными\n",
      "\n"
     ]
    }
   ],
   "source": [
    "events_groups['246+247'] = events_groups[246] + events_groups[247]\n",
    "\n",
    "z_value('246+247',248,0.05)"
   ]
  },
  {
   "cell_type": "markdown",
   "metadata": {},
   "source": [
    "Между объединенной контрольной группой и экспериментальной значимой разницы также нет."
   ]
  },
  {
   "cell_type": "markdown",
   "metadata": {},
   "source": [
    "#### Вывод"
   ]
  },
  {
   "cell_type": "markdown",
   "metadata": {},
   "source": [
    "В данном разделе мы выполнили 20 проверок гипотез: 5 проверок между контрольными группами и 15 между контрольными группами и экспериментальной группой. Для снижения вероятности ложнопозитивного результата при множественном тестировании гипотез стандартный уровень значимости, равный 0.05, был скорректирован методом Шидака и составил 0.0026. Все 20 проверок показали, что значимой разницы между группами нет. \n",
    "\n",
    "Если бы мы применили уровень значимости 0.1, то только одна проверка (группы 246 и 248, событие CartScreenAppear) показала бы значимую разницу между группами. Учитывая, что при уровне значимости 0.1 каждый десятый раз можно получать ложный результат, стоит применять уровень значимости, скорректированный методом Шидака."
   ]
  },
  {
   "cell_type": "markdown",
   "metadata": {},
   "source": [
    "#### Общий вывод"
   ]
  },
  {
   "cell_type": "markdown",
   "metadata": {},
   "source": [
    "Целью данного проекта являлось изучение поведения пользователей мобильного приложения продажи продуктов питания, а также исследование результатов A/A/B-эксперимента по изменению шрифтов во всём приложении. \n",
    "\n",
    "Изначально лог содеражал данные за период с 2019-07-25 по 2019-08-07. В ходе анализа установлено, что полные данные есть только за период с 2019-08-01 по 2019-08-07. Данные за этот период были рассмотрены в проекте. В логе за актуальный период 7534 пользователя и 240887 событий. Среднее количество событий на пользователя - 19. При срезе данных по дате потеряно меньше 1% пользователей и 1% событий. В рассматриваемом периоде пользователи распределены по экспериментальным группам примерно в равном количестве.\n",
    "\n",
    "В ходе изучения воронки событий выявлено, что в логе 4 основных события и одно, не входящее в воронку событий. Больше всего (40 %) пользователей теряется при переходе с главной страницы на страницу продукта. Это может быть связано с тем, что пользователь добавляет заказ в корзину сразу с главной страницы. От просмотра главной страницы до этапа оплаты доходит 47,7 % пользователей.\n",
    "\n",
    "При исследовании результатов A/A/B-эксперимента мы выполнили 20 проверок гипотез: 5 проверок между контрольными группами и 15 между контрольными группами и экспериментальной группой. Для снижения вероятности ложнопозитивного результата при множественном тестировании гипотез стандартный уровень значимости, равный 0.05, был скорректирован методом Шидака и составил 0.0026. Все 20 проверок показали, что значимой разницы между группами нет. Можно сделать вывод, что изменение шрифтов приложения на поведение пользователей не повлияет."
   ]
  }
 ],
 "metadata": {
  "ExecuteTimeLog": [
   {
    "duration": 1168,
    "start_time": "2023-04-30T06:53:29.711Z"
   },
   {
    "duration": 962,
    "start_time": "2023-04-30T06:53:30.881Z"
   },
   {
    "duration": 3,
    "start_time": "2023-04-30T06:53:31.845Z"
   },
   {
    "duration": 37,
    "start_time": "2023-04-30T06:53:31.850Z"
   },
   {
    "duration": 19,
    "start_time": "2023-04-30T06:53:31.890Z"
   },
   {
    "duration": 83,
    "start_time": "2023-04-30T06:53:31.910Z"
   },
   {
    "duration": 91,
    "start_time": "2023-04-30T06:53:31.994Z"
   },
   {
    "duration": 63,
    "start_time": "2023-04-30T06:53:32.087Z"
   },
   {
    "duration": 134,
    "start_time": "2023-04-30T06:53:32.152Z"
   },
   {
    "duration": 9,
    "start_time": "2023-04-30T06:53:32.288Z"
   },
   {
    "duration": 28,
    "start_time": "2023-04-30T06:53:32.299Z"
   },
   {
    "duration": 20,
    "start_time": "2023-04-30T06:53:32.329Z"
   },
   {
    "duration": 56,
    "start_time": "2023-04-30T06:53:32.351Z"
   },
   {
    "duration": 6,
    "start_time": "2023-04-30T06:53:32.411Z"
   },
   {
    "duration": 351,
    "start_time": "2023-04-30T06:53:32.419Z"
   },
   {
    "duration": 21,
    "start_time": "2023-04-30T06:53:32.772Z"
   },
   {
    "duration": 48,
    "start_time": "2023-04-30T06:53:32.795Z"
   },
   {
    "duration": 51,
    "start_time": "2023-04-30T06:53:32.845Z"
   },
   {
    "duration": 36,
    "start_time": "2023-04-30T06:53:32.898Z"
   },
   {
    "duration": 25,
    "start_time": "2023-04-30T06:53:32.936Z"
   },
   {
    "duration": 78,
    "start_time": "2023-04-30T06:53:32.963Z"
   },
   {
    "duration": 15,
    "start_time": "2023-04-30T06:53:33.042Z"
   },
   {
    "duration": 28,
    "start_time": "2023-04-30T06:53:33.059Z"
   },
   {
    "duration": 41,
    "start_time": "2023-04-30T06:53:33.089Z"
   },
   {
    "duration": 97,
    "start_time": "2023-04-30T06:53:33.132Z"
   },
   {
    "duration": 32,
    "start_time": "2023-04-30T06:53:33.231Z"
   },
   {
    "duration": 31,
    "start_time": "2023-04-30T06:53:33.264Z"
   },
   {
    "duration": 21,
    "start_time": "2023-04-30T06:53:33.297Z"
   },
   {
    "duration": 22,
    "start_time": "2023-04-30T06:53:33.320Z"
   },
   {
    "duration": 15,
    "start_time": "2023-04-30T06:53:33.344Z"
   },
   {
    "duration": 1480,
    "start_time": "2023-04-30T21:31:00.325Z"
   },
   {
    "duration": 192,
    "start_time": "2023-04-30T21:31:01.808Z"
   },
   {
    "duration": 3,
    "start_time": "2023-04-30T21:31:02.002Z"
   },
   {
    "duration": 156,
    "start_time": "2023-04-30T21:31:02.007Z"
   },
   {
    "duration": 180,
    "start_time": "2023-04-30T21:31:02.165Z"
   },
   {
    "duration": 283,
    "start_time": "2023-04-30T21:31:02.348Z"
   },
   {
    "duration": 91,
    "start_time": "2023-04-30T21:31:02.633Z"
   },
   {
    "duration": 81,
    "start_time": "2023-04-30T21:31:02.726Z"
   },
   {
    "duration": 178,
    "start_time": "2023-04-30T21:31:02.810Z"
   },
   {
    "duration": 11,
    "start_time": "2023-04-30T21:31:02.991Z"
   },
   {
    "duration": 44,
    "start_time": "2023-04-30T21:31:03.005Z"
   },
   {
    "duration": 75,
    "start_time": "2023-04-30T21:31:03.052Z"
   },
   {
    "duration": 20,
    "start_time": "2023-04-30T21:31:03.129Z"
   },
   {
    "duration": 35,
    "start_time": "2023-04-30T21:31:03.151Z"
   },
   {
    "duration": 7,
    "start_time": "2023-04-30T21:31:03.188Z"
   },
   {
    "duration": 361,
    "start_time": "2023-04-30T21:31:03.197Z"
   },
   {
    "duration": 20,
    "start_time": "2023-04-30T21:31:03.560Z"
   },
   {
    "duration": 69,
    "start_time": "2023-04-30T21:31:03.582Z"
   },
   {
    "duration": 23,
    "start_time": "2023-04-30T21:31:03.653Z"
   },
   {
    "duration": 66,
    "start_time": "2023-04-30T21:31:03.678Z"
   },
   {
    "duration": 23,
    "start_time": "2023-04-30T21:31:03.747Z"
   },
   {
    "duration": 93,
    "start_time": "2023-04-30T21:31:03.772Z"
   },
   {
    "duration": 18,
    "start_time": "2023-04-30T21:31:03.867Z"
   },
   {
    "duration": 578,
    "start_time": "2023-04-30T21:31:03.887Z"
   },
   {
    "duration": 7,
    "start_time": "2023-04-30T21:31:04.468Z"
   },
   {
    "duration": 91,
    "start_time": "2023-04-30T21:31:04.477Z"
   },
   {
    "duration": 207,
    "start_time": "2023-04-30T21:31:04.570Z"
   },
   {
    "duration": 44,
    "start_time": "2023-04-30T21:31:04.781Z"
   },
   {
    "duration": 8,
    "start_time": "2023-04-30T21:31:04.842Z"
   },
   {
    "duration": 27,
    "start_time": "2023-04-30T21:31:04.852Z"
   },
   {
    "duration": 24,
    "start_time": "2023-04-30T21:31:04.882Z"
   },
   {
    "duration": 59,
    "start_time": "2023-04-30T21:31:04.909Z"
   },
   {
    "duration": 28,
    "start_time": "2023-04-30T21:31:04.971Z"
   },
   {
    "duration": 61,
    "start_time": "2023-04-30T21:31:05.002Z"
   },
   {
    "duration": 11,
    "start_time": "2023-05-01T10:03:20.217Z"
   },
   {
    "duration": 3,
    "start_time": "2023-05-01T10:03:26.604Z"
   },
   {
    "duration": 4,
    "start_time": "2023-05-01T10:03:34.612Z"
   },
   {
    "duration": 1486,
    "start_time": "2023-05-01T10:07:29.110Z"
   },
   {
    "duration": 670,
    "start_time": "2023-05-01T10:07:30.598Z"
   },
   {
    "duration": 4,
    "start_time": "2023-05-01T10:07:31.269Z"
   },
   {
    "duration": 36,
    "start_time": "2023-05-01T10:07:31.274Z"
   },
   {
    "duration": 41,
    "start_time": "2023-05-01T10:07:31.313Z"
   },
   {
    "duration": 149,
    "start_time": "2023-05-01T10:07:31.356Z"
   },
   {
    "duration": 80,
    "start_time": "2023-05-01T10:07:31.507Z"
   },
   {
    "duration": 72,
    "start_time": "2023-05-01T10:07:31.589Z"
   },
   {
    "duration": 128,
    "start_time": "2023-05-01T10:07:31.663Z"
   },
   {
    "duration": 9,
    "start_time": "2023-05-01T10:07:31.793Z"
   },
   {
    "duration": 65,
    "start_time": "2023-05-01T10:07:31.803Z"
   },
   {
    "duration": 85,
    "start_time": "2023-05-01T10:07:31.869Z"
   },
   {
    "duration": 19,
    "start_time": "2023-05-01T10:07:31.956Z"
   },
   {
    "duration": 32,
    "start_time": "2023-05-01T10:07:31.978Z"
   },
   {
    "duration": 22,
    "start_time": "2023-05-01T10:07:32.016Z"
   },
   {
    "duration": 317,
    "start_time": "2023-05-01T10:07:32.040Z"
   },
   {
    "duration": 17,
    "start_time": "2023-05-01T10:07:32.358Z"
   },
   {
    "duration": 75,
    "start_time": "2023-05-01T10:07:32.377Z"
   },
   {
    "duration": 22,
    "start_time": "2023-05-01T10:07:32.454Z"
   },
   {
    "duration": 44,
    "start_time": "2023-05-01T10:07:32.477Z"
   },
   {
    "duration": 29,
    "start_time": "2023-05-01T10:07:32.523Z"
   },
   {
    "duration": 91,
    "start_time": "2023-05-01T10:07:32.555Z"
   },
   {
    "duration": 19,
    "start_time": "2023-05-01T10:07:32.648Z"
   },
   {
    "duration": 471,
    "start_time": "2023-05-01T10:07:32.669Z"
   },
   {
    "duration": 5,
    "start_time": "2023-05-01T10:07:33.142Z"
   },
   {
    "duration": 82,
    "start_time": "2023-05-01T10:07:33.149Z"
   },
   {
    "duration": 123,
    "start_time": "2023-05-01T10:07:33.233Z"
   },
   {
    "duration": 31,
    "start_time": "2023-05-01T10:07:33.358Z"
   },
   {
    "duration": 5,
    "start_time": "2023-05-01T10:07:33.391Z"
   },
   {
    "duration": 22,
    "start_time": "2023-05-01T10:07:33.397Z"
   },
   {
    "duration": 20,
    "start_time": "2023-05-01T10:07:33.421Z"
   },
   {
    "duration": 29,
    "start_time": "2023-05-01T10:07:33.442Z"
   },
   {
    "duration": 13,
    "start_time": "2023-05-01T10:07:33.473Z"
   },
   {
    "duration": 21,
    "start_time": "2023-05-01T10:07:33.487Z"
   },
   {
    "duration": 47,
    "start_time": "2023-05-01T10:08:48.997Z"
   },
   {
    "duration": 1319,
    "start_time": "2023-05-01T10:11:06.411Z"
   },
   {
    "duration": 182,
    "start_time": "2023-05-01T10:11:07.732Z"
   },
   {
    "duration": 3,
    "start_time": "2023-05-01T10:11:07.916Z"
   },
   {
    "duration": 32,
    "start_time": "2023-05-01T10:11:07.921Z"
   },
   {
    "duration": 17,
    "start_time": "2023-05-01T10:11:07.956Z"
   },
   {
    "duration": 162,
    "start_time": "2023-05-01T10:11:07.974Z"
   },
   {
    "duration": 87,
    "start_time": "2023-05-01T10:11:08.138Z"
   },
   {
    "duration": 65,
    "start_time": "2023-05-01T10:11:08.227Z"
   },
   {
    "duration": 133,
    "start_time": "2023-05-01T10:11:08.298Z"
   },
   {
    "duration": 10,
    "start_time": "2023-05-01T10:11:08.433Z"
   },
   {
    "duration": 49,
    "start_time": "2023-05-01T10:11:08.445Z"
   },
   {
    "duration": 56,
    "start_time": "2023-05-01T10:11:08.496Z"
   },
   {
    "duration": 17,
    "start_time": "2023-05-01T10:11:08.554Z"
   },
   {
    "duration": 26,
    "start_time": "2023-05-01T10:11:08.574Z"
   },
   {
    "duration": 20,
    "start_time": "2023-05-01T10:11:08.601Z"
   },
   {
    "duration": 320,
    "start_time": "2023-05-01T10:11:08.623Z"
   },
   {
    "duration": 16,
    "start_time": "2023-05-01T10:11:08.944Z"
   },
   {
    "duration": 66,
    "start_time": "2023-05-01T10:11:08.962Z"
   },
   {
    "duration": 23,
    "start_time": "2023-05-01T10:11:09.030Z"
   },
   {
    "duration": 36,
    "start_time": "2023-05-01T10:11:09.054Z"
   },
   {
    "duration": 47,
    "start_time": "2023-05-01T10:11:09.092Z"
   },
   {
    "duration": 88,
    "start_time": "2023-05-01T10:11:09.141Z"
   },
   {
    "duration": 15,
    "start_time": "2023-05-01T10:11:09.232Z"
   },
   {
    "duration": 465,
    "start_time": "2023-05-01T10:11:09.249Z"
   },
   {
    "duration": 5,
    "start_time": "2023-05-01T10:11:09.716Z"
   },
   {
    "duration": 97,
    "start_time": "2023-05-01T10:11:09.722Z"
   },
   {
    "duration": 110,
    "start_time": "2023-05-01T10:11:09.821Z"
   },
   {
    "duration": 33,
    "start_time": "2023-05-01T10:11:09.933Z"
   },
   {
    "duration": 7,
    "start_time": "2023-05-01T10:11:09.968Z"
   },
   {
    "duration": 88,
    "start_time": "2023-05-01T10:11:09.977Z"
   },
   {
    "duration": 43,
    "start_time": "2023-05-01T10:11:10.067Z"
   },
   {
    "duration": 29,
    "start_time": "2023-05-01T10:11:10.112Z"
   },
   {
    "duration": 29,
    "start_time": "2023-05-01T10:11:10.143Z"
   },
   {
    "duration": 29,
    "start_time": "2023-05-01T10:11:10.174Z"
   },
   {
    "duration": 1174,
    "start_time": "2023-05-01T20:24:10.353Z"
   },
   {
    "duration": 163,
    "start_time": "2023-05-01T20:24:11.529Z"
   },
   {
    "duration": 2,
    "start_time": "2023-05-01T20:24:11.694Z"
   },
   {
    "duration": 21,
    "start_time": "2023-05-01T20:24:11.698Z"
   },
   {
    "duration": 22,
    "start_time": "2023-05-01T20:24:11.720Z"
   },
   {
    "duration": 115,
    "start_time": "2023-05-01T20:24:11.743Z"
   },
   {
    "duration": 77,
    "start_time": "2023-05-01T20:24:11.860Z"
   },
   {
    "duration": 52,
    "start_time": "2023-05-01T20:24:11.939Z"
   },
   {
    "duration": 118,
    "start_time": "2023-05-01T20:24:11.993Z"
   },
   {
    "duration": 8,
    "start_time": "2023-05-01T20:24:12.113Z"
   },
   {
    "duration": 29,
    "start_time": "2023-05-01T20:24:12.122Z"
   },
   {
    "duration": 38,
    "start_time": "2023-05-01T20:24:12.152Z"
   },
   {
    "duration": 14,
    "start_time": "2023-05-01T20:24:12.191Z"
   },
   {
    "duration": 38,
    "start_time": "2023-05-01T20:24:12.206Z"
   },
   {
    "duration": 4,
    "start_time": "2023-05-01T20:24:12.246Z"
   },
   {
    "duration": 290,
    "start_time": "2023-05-01T20:24:12.252Z"
   },
   {
    "duration": 15,
    "start_time": "2023-05-01T20:24:12.543Z"
   },
   {
    "duration": 40,
    "start_time": "2023-05-01T20:24:12.559Z"
   },
   {
    "duration": 39,
    "start_time": "2023-05-01T20:24:12.600Z"
   },
   {
    "duration": 30,
    "start_time": "2023-05-01T20:24:12.640Z"
   },
   {
    "duration": 21,
    "start_time": "2023-05-01T20:24:12.672Z"
   },
   {
    "duration": 70,
    "start_time": "2023-05-01T20:24:12.694Z"
   },
   {
    "duration": 11,
    "start_time": "2023-05-01T20:24:12.766Z"
   },
   {
    "duration": 472,
    "start_time": "2023-05-01T20:24:12.779Z"
   },
   {
    "duration": 4,
    "start_time": "2023-05-01T20:24:13.253Z"
   },
   {
    "duration": 85,
    "start_time": "2023-05-01T20:24:13.259Z"
   },
   {
    "duration": 112,
    "start_time": "2023-05-01T20:24:13.345Z"
   },
   {
    "duration": 30,
    "start_time": "2023-05-01T20:24:13.459Z"
   },
   {
    "duration": 5,
    "start_time": "2023-05-01T20:24:13.490Z"
   },
   {
    "duration": 13,
    "start_time": "2023-05-01T20:24:13.497Z"
   },
   {
    "duration": 25,
    "start_time": "2023-05-01T20:24:13.511Z"
   },
   {
    "duration": 18,
    "start_time": "2023-05-01T20:24:13.537Z"
   },
   {
    "duration": 16,
    "start_time": "2023-05-01T20:24:13.556Z"
   },
   {
    "duration": 16,
    "start_time": "2023-05-01T20:24:13.573Z"
   }
  ],
  "kernelspec": {
   "display_name": "Python 3 (ipykernel)",
   "language": "python",
   "name": "python3"
  },
  "language_info": {
   "codemirror_mode": {
    "name": "ipython",
    "version": 3
   },
   "file_extension": ".py",
   "mimetype": "text/x-python",
   "name": "python",
   "nbconvert_exporter": "python",
   "pygments_lexer": "ipython3",
   "version": "3.9.15"
  },
  "toc": {
   "base_numbering": 1,
   "nav_menu": {},
   "number_sections": true,
   "sideBar": true,
   "skip_h1_title": true,
   "title_cell": "Table of Contents",
   "title_sidebar": "Contents",
   "toc_cell": false,
   "toc_position": {},
   "toc_section_display": true,
   "toc_window_display": false
  }
 },
 "nbformat": 4,
 "nbformat_minor": 2
}
